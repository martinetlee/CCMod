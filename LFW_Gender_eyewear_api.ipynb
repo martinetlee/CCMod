{
  "nbformat": 4,
  "nbformat_minor": 0,
  "metadata": {
    "colab": {
      "name": "LFW-Gender-eyewear-api.ipynb",
      "provenance": [],
      "include_colab_link": true
    },
    "kernelspec": {
      "name": "python3",
      "display_name": "Python 3"
    }
  },
  "cells": [
    {
      "cell_type": "markdown",
      "metadata": {
        "id": "view-in-github",
        "colab_type": "text"
      },
      "source": [
        "<a href=\"https://colab.research.google.com/github/martinetlee/CCMod/blob/master/LFW_Gender_eyewear_api.ipynb\" target=\"_parent\"><img src=\"https://colab.research.google.com/assets/colab-badge.svg\" alt=\"Open In Colab\"/></a>"
      ]
    },
    {
      "cell_type": "code",
      "metadata": {
        "id": "Wjj9w6B4Hc3j",
        "colab_type": "code",
        "outputId": "f858dc2c-8b19-43fd-e213-91c53a5b1623",
        "colab": {
          "base_uri": "https://localhost:8080/",
          "height": 122
        }
      },
      "source": [
        "from google.colab import drive\n",
        "drive.mount('/content/drive')"
      ],
      "execution_count": 0,
      "outputs": [
        {
          "output_type": "stream",
          "text": [
            "Go to this URL in a browser: https://accounts.google.com/o/oauth2/auth?client_id=947318989803-6bn6qk8qdgf4n4g3pfee6491hc0brc4i.apps.googleusercontent.com&redirect_uri=urn%3Aietf%3Awg%3Aoauth%3A2.0%3Aoob&scope=email%20https%3A%2F%2Fwww.googleapis.com%2Fauth%2Fdocs.test%20https%3A%2F%2Fwww.googleapis.com%2Fauth%2Fdrive%20https%3A%2F%2Fwww.googleapis.com%2Fauth%2Fdrive.photos.readonly%20https%3A%2F%2Fwww.googleapis.com%2Fauth%2Fpeopleapi.readonly&response_type=code\n",
            "\n",
            "Enter your authorization code:\n",
            "··········\n",
            "Mounted at /content/drive\n"
          ],
          "name": "stdout"
        }
      ]
    },
    {
      "cell_type": "code",
      "metadata": {
        "id": "n4O5sbxyUTqP",
        "colab_type": "code",
        "outputId": "3bfd3463-025a-441d-e3c9-00460a0c0cb7",
        "colab": {
          "base_uri": "https://localhost:8080/",
          "height": 34
        }
      },
      "source": [
        "from __future__ import absolute_import, division, print_function, unicode_literals\n",
        "\n",
        "try:\n",
        "  # %tensorflow_version only exists in Colab.\n",
        "  %tensorflow_version 2.x\n",
        "except Exception:\n",
        "  pass\n",
        "\n",
        "import tensorflow as tf\n",
        "\n",
        "import numpy as np\n",
        "import pandas as pd\n",
        "import matplotlib.pyplot as plt\n",
        "import math\n",
        "from PIL import Image"
      ],
      "execution_count": 0,
      "outputs": [
        {
          "output_type": "stream",
          "text": [
            "TensorFlow 2.x selected.\n"
          ],
          "name": "stdout"
        }
      ]
    },
    {
      "cell_type": "code",
      "metadata": {
        "id": "JK2ZVG7QUZ0T",
        "colab_type": "code",
        "colab": {}
      },
      "source": [
        "%%capture\n",
        "# Download LFW and attribute file\n",
        "!wget http://vis-www.cs.umass.edu/lfw/lfw.tgz\n",
        "!wget http://www.cs.columbia.edu/CAVE/databases/pubfig/download/lfw_attributes.txt\n",
        "\n",
        "# Extract the tar\n",
        "!tar zxvf lfw.tgz"
      ],
      "execution_count": 0,
      "outputs": []
    },
    {
      "cell_type": "code",
      "metadata": {
        "id": "TnUpQjY-SqFe",
        "colab_type": "code",
        "outputId": "4b66f974-24f6-472f-99f1-dafbc37ab7c9",
        "colab": {
          "base_uri": "https://localhost:8080/",
          "height": 121
        }
      },
      "source": [
        "! wget https://drive.google.com/uc?export=download&id=1MhJsiTB0hB8mRHS60f-kv85Aydfs2PEI"
      ],
      "execution_count": 0,
      "outputs": [
        {
          "output_type": "stream",
          "text": [
            "--2019-11-07 14:40:55--  https://drive.google.com/uc?export=download\n",
            "Resolving drive.google.com (drive.google.com)... 74.125.31.139, 74.125.31.102, 74.125.31.100, ...\n",
            "Connecting to drive.google.com (drive.google.com)|74.125.31.139|:443... connected.\n",
            "HTTP request sent, awaiting response... 400 Bad Request\n",
            "2019-11-07 14:40:55 ERROR 400: Bad Request.\n",
            "\n"
          ],
          "name": "stdout"
        }
      ]
    },
    {
      "cell_type": "code",
      "metadata": {
        "id": "DXyHWW3HUboj",
        "colab_type": "code",
        "outputId": "3b685bb3-3f68-4d93-fcfd-977136a58442",
        "colab": {
          "base_uri": "https://localhost:8080/",
          "height": 419
        }
      },
      "source": [
        "# Read from drive\n",
        "attr_data = pd.read_csv('/content/drive/My Drive/LFWData/lfw_highconf_gender_eyewear.csv')\n",
        "display(attr_data)\n"
      ],
      "execution_count": 0,
      "outputs": [
        {
          "output_type": "display_data",
          "data": {
            "text/html": [
              "<div>\n",
              "<style scoped>\n",
              "    .dataframe tbody tr th:only-of-type {\n",
              "        vertical-align: middle;\n",
              "    }\n",
              "\n",
              "    .dataframe tbody tr th {\n",
              "        vertical-align: top;\n",
              "    }\n",
              "\n",
              "    .dataframe thead th {\n",
              "        text-align: right;\n",
              "    }\n",
              "</style>\n",
              "<table border=\"1\" class=\"dataframe\">\n",
              "  <thead>\n",
              "    <tr style=\"text-align: right;\">\n",
              "      <th></th>\n",
              "      <th>person</th>\n",
              "      <th>imagenum</th>\n",
              "      <th>Male</th>\n",
              "      <th>eyewear</th>\n",
              "    </tr>\n",
              "  </thead>\n",
              "  <tbody>\n",
              "    <tr>\n",
              "      <th>0</th>\n",
              "      <td>Aaron Eckhart</td>\n",
              "      <td>1</td>\n",
              "      <td>True</td>\n",
              "      <td>False</td>\n",
              "    </tr>\n",
              "    <tr>\n",
              "      <th>1</th>\n",
              "      <td>Aaron Patterson</td>\n",
              "      <td>1</td>\n",
              "      <td>True</td>\n",
              "      <td>False</td>\n",
              "    </tr>\n",
              "    <tr>\n",
              "      <th>2</th>\n",
              "      <td>Aaron Peirsol</td>\n",
              "      <td>1</td>\n",
              "      <td>True</td>\n",
              "      <td>False</td>\n",
              "    </tr>\n",
              "    <tr>\n",
              "      <th>3</th>\n",
              "      <td>Aaron Peirsol</td>\n",
              "      <td>2</td>\n",
              "      <td>True</td>\n",
              "      <td>False</td>\n",
              "    </tr>\n",
              "    <tr>\n",
              "      <th>4</th>\n",
              "      <td>Aaron Peirsol</td>\n",
              "      <td>3</td>\n",
              "      <td>True</td>\n",
              "      <td>False</td>\n",
              "    </tr>\n",
              "    <tr>\n",
              "      <th>...</th>\n",
              "      <td>...</td>\n",
              "      <td>...</td>\n",
              "      <td>...</td>\n",
              "      <td>...</td>\n",
              "    </tr>\n",
              "    <tr>\n",
              "      <th>7804</th>\n",
              "      <td>Oprah Winfrey</td>\n",
              "      <td>1</td>\n",
              "      <td>False</td>\n",
              "      <td>True</td>\n",
              "    </tr>\n",
              "    <tr>\n",
              "      <th>7805</th>\n",
              "      <td>Ozzy Osbourne</td>\n",
              "      <td>2</td>\n",
              "      <td>False</td>\n",
              "      <td>True</td>\n",
              "    </tr>\n",
              "    <tr>\n",
              "      <th>7806</th>\n",
              "      <td>Park Na-kyong</td>\n",
              "      <td>1</td>\n",
              "      <td>False</td>\n",
              "      <td>True</td>\n",
              "    </tr>\n",
              "    <tr>\n",
              "      <th>7807</th>\n",
              "      <td>Patricia Clarkson</td>\n",
              "      <td>4</td>\n",
              "      <td>False</td>\n",
              "      <td>True</td>\n",
              "    </tr>\n",
              "    <tr>\n",
              "      <th>7808</th>\n",
              "      <td>Patti Lank</td>\n",
              "      <td>1</td>\n",
              "      <td>False</td>\n",
              "      <td>True</td>\n",
              "    </tr>\n",
              "  </tbody>\n",
              "</table>\n",
              "<p>7809 rows × 4 columns</p>\n",
              "</div>"
            ],
            "text/plain": [
              "                 person  imagenum   Male  eyewear\n",
              "0         Aaron Eckhart         1   True    False\n",
              "1       Aaron Patterson         1   True    False\n",
              "2         Aaron Peirsol         1   True    False\n",
              "3         Aaron Peirsol         2   True    False\n",
              "4         Aaron Peirsol         3   True    False\n",
              "...                 ...       ...    ...      ...\n",
              "7804      Oprah Winfrey         1  False     True\n",
              "7805      Ozzy Osbourne         2  False     True\n",
              "7806      Park Na-kyong         1  False     True\n",
              "7807  Patricia Clarkson         4  False     True\n",
              "7808         Patti Lank         1  False     True\n",
              "\n",
              "[7809 rows x 4 columns]"
            ]
          },
          "metadata": {
            "tags": []
          }
        }
      ]
    },
    {
      "cell_type": "code",
      "metadata": {
        "id": "of8GWmhTXUra",
        "colab_type": "code",
        "colab": {}
      },
      "source": [
        "def displayImageFromFile(target_person):\n",
        "  # We use index to get the person\n",
        "  target_name = attr_data['person'].iloc[target_person]\n",
        "\n",
        "  target_name = target_name.replace(' ', '_')\n",
        "  target_imgnum = str(attr_data['imagenum'].iloc[target_person]).zfill(4)\n",
        "\n",
        "  print(target_name, \"Male: \", attr_data['Male'].iloc[target_person], \", eyewear: \", attr_data['eyewear'].iloc[target_person])\n",
        "  \n",
        "  target_img = plt.imread('./lfw/'+ target_name + '/' + target_name + '_'+target_imgnum+'.jpg')\n",
        "  print(target_img.shape)\n",
        "  plt.imshow(target_img) \n",
        "  plt.show()\n",
        "\n",
        "\n",
        "def displayImageFromNP(target_person):\n",
        "  plt.imshow(np.array(all_imgData[target_person], dtype=int))\n",
        "  plt.show()"
      ],
      "execution_count": 0,
      "outputs": []
    },
    {
      "cell_type": "code",
      "metadata": {
        "id": "AIn9Jisq4FPZ",
        "colab_type": "code",
        "outputId": "1c933680-f855-4e49-83f6-8a8aa7ebac9c",
        "colab": {
          "base_uri": "https://localhost:8080/",
          "height": 34
        }
      },
      "source": [
        "## import LFW images as numpy array\n",
        "\n",
        "all_imgData = np.empty( (attr_data.shape[0], 250, 250, 3) )\n",
        "curInd = 0\n",
        "for index, row in attr_data.iterrows():\n",
        "  target_name = row['person']\n",
        "  target_name = target_name.replace(' ', '_')\n",
        "  target_imgnum = str(row['imagenum']).zfill(4)\n",
        "  target_file = './lfw/'+ target_name + '/' + target_name + '_'+target_imgnum+'.jpg'\n",
        "  target_imgData = np.array(Image.open(target_file))\n",
        "\n",
        "  all_imgData[curInd] = target_imgData\n",
        "  curInd += 1\n",
        "\n",
        "print(\"complete\")"
      ],
      "execution_count": 0,
      "outputs": [
        {
          "output_type": "stream",
          "text": [
            "complete\n"
          ],
          "name": "stdout"
        }
      ]
    },
    {
      "cell_type": "code",
      "metadata": {
        "id": "gazao78Z8vhO",
        "colab_type": "code",
        "outputId": "c456b8b8-5d27-44dc-a430-dc54781d0569",
        "colab": {
          "base_uri": "https://localhost:8080/",
          "height": 34
        }
      },
      "source": [
        "all_imgData.shape"
      ],
      "execution_count": 0,
      "outputs": [
        {
          "output_type": "execute_result",
          "data": {
            "text/plain": [
              "(7809, 250, 250, 3)"
            ]
          },
          "metadata": {
            "tags": []
          },
          "execution_count": 7
        }
      ]
    }
  ]
}